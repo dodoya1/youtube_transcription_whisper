{
  "cells": [
    {
      "attachments": {},
      "cell_type": "markdown",
      "metadata": {
        "id": "gTvLha2QDp5b"
      },
      "source": [
        "# YouTube Transcription Whisper\n",
        "\n",
        "<br>\n",
        "    <a href=\"https://colab.research.google.com/github/dodoya1/youtube_transcription_whisper/blob/master/tutorial.ipynb\"><img src=\"https://colab.research.google.com/assets/colab-badge.svg\" alt=\"Open In Colab\"></a>\n",
        "<br>\n",
        "\n",
        "## Description\n",
        "\"YouTube Transcription Whisper\" is a Python script for transcribing YouTube videos. The user must enter the URL of the YouTube video to be transcribed."
      ]
    },
    {
      "cell_type": "markdown",
      "metadata": {
        "id": "S947J24SEAKZ"
      },
      "source": [
        "## Setup"
      ]
    },
    {
      "cell_type": "code",
      "execution_count": null,
      "metadata": {
        "id": "1qczw8Q8hj3H"
      },
      "outputs": [],
      "source": [
        "!git clone https://github.com/dodoya1/youtube_transcription_whisper.git"
      ]
    },
    {
      "cell_type": "code",
      "execution_count": null,
      "metadata": {
        "id": "70ns0yYCDZ4m"
      },
      "outputs": [],
      "source": [
        "%cd youtube_transcription_whisper"
      ]
    },
    {
      "cell_type": "code",
      "execution_count": null,
      "metadata": {
        "id": "lOWCyVRMDTke"
      },
      "outputs": [],
      "source": [
        "!pip install -r requirements.txt"
      ]
    },
    {
      "attachments": {},
      "cell_type": "markdown",
      "metadata": {
        "id": "1B08bMYhEa-M"
      },
      "source": [
        "## Usage\n",
        "First, run the following command Next, enter the URL of the YouTube video you wish to transcribe. Additionally, you will need to enter the name of the folder where you want to save the output results."
      ]
    },
    {
      "cell_type": "code",
      "execution_count": null,
      "metadata": {
        "id": "S-dPn5T5DVKP"
      },
      "outputs": [],
      "source": [
        "!python main.py"
      ]
    }
  ],
  "metadata": {
    "colab": {
      "provenance": []
    },
    "kernelspec": {
      "display_name": "Python 3",
      "name": "python3"
    },
    "language_info": {
      "name": "python"
    }
  },
  "nbformat": 4,
  "nbformat_minor": 0
}
